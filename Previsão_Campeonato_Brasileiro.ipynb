{
  "nbformat": 4,
  "nbformat_minor": 0,
  "metadata": {
    "colab": {
      "provenance": [],
      "authorship_tag": "ABX9TyM4ePHGl3StX82VRekK4UvP",
      "include_colab_link": true
    },
    "kernelspec": {
      "name": "python3",
      "display_name": "Python 3"
    },
    "language_info": {
      "name": "python"
    }
  },
  "cells": [
    {
      "cell_type": "markdown",
      "metadata": {
        "id": "view-in-github",
        "colab_type": "text"
      },
      "source": [
        "<a href=\"https://colab.research.google.com/github/julianosfreitas/Machine-Learning-no-Campeonato-Brasileiro/blob/main/Previs%C3%A3o_Campeonato_Brasileiro.ipynb\" target=\"_parent\"><img src=\"https://colab.research.google.com/assets/colab-badge.svg\" alt=\"Open In Colab\"/></a>"
      ]
    },
    {
      "cell_type": "code",
      "execution_count": 39,
      "metadata": {
        "id": "up4-57xxeXj6"
      },
      "outputs": [],
      "source": [
        "# importar bibliotecas\n",
        "\n",
        "import pandas as pd\n",
        "import numpy as np\n",
        "from sklearn.linear_model import LogisticRegression\n",
        "from sklearn.tree import DecisionTreeClassifier\n",
        "from sklearn.naive_bayes import GaussianNB\n",
        "from sklearn.svm import SVC\n",
        "from sklearn.metrics import accuracy_score, f1_score, precision_score, recall_score\n",
        "from sklearn.feature_selection import SelectKBest\n",
        "from sklearn.model_selection import GridSearchCV #from sklearn.feature_selection import GridSearchCV\n",
        "from sklearn.preprocessing import StandardScaler, MinMaxScaler\n",
        "import matplotlib.pyplot as plt\n",
        "import seaborn as sns\n",
        "from sklearn.preprocessing import scale\n",
        "%matplotlib inline"
      ]
    },
    {
      "cell_type": "code",
      "source": [
        "# Ler o Arquivo BRA.scv 👀\n",
        "data = pd.read_csv('/content/BRA.csv')\n",
        "# Vizualizando os x primeiros items da tabela 🗒️\n",
        "# display(data.head(20))\n",
        "data.head(5)"
      ],
      "metadata": {
        "id": "ZMPpkwrxelvN"
      },
      "execution_count": null,
      "outputs": []
    },
    {
      "cell_type": "code",
      "source": [
        "# Ver tipo as colunas 🏛️\n",
        "data.info()"
      ],
      "metadata": {
        "id": "nT8zGQY7x9sX"
      },
      "execution_count": null,
      "outputs": []
    },
    {
      "cell_type": "code",
      "source": [
        "#Explorando os dados\n",
        "\n",
        "matches = data.shape[0]\n",
        "\n",
        "features = data.shape[1] -1 #Tirando a coluna Resultado\n",
        "\n",
        "home_win = len(data[data.Res==1]) # Home Win = Quando na coluna Resultado o valor for igual a 1\n",
        "away_win = len(data[data.Res==2]) # Away Win = Quando na coluna Resultado o valor for igual a 2\n",
        "draw = len(data[data.Res==0]) # Draw = Quando na coluna Resultado o valor for igual a 0\n",
        "val = [home_win, away_win, draw]\n",
        "\n",
        "win_rate = (float(home_win)/(matches)) *100\n",
        "\n",
        "print ('Total de Jogos: ', matches)\n",
        "print ('Total de Colunas: ', features)\n",
        "print ('Total de Jogos ganhos em casa: ', home_win)\n",
        "print ('Total de Jogos ganhos pelo visitante: ', away_win)\n",
        "print ('Total de Jogos empatados: ', draw)\n",
        "print ('Percentual de jogos ganhos em casa: {:.2f}%'.format(win_rate))\n",
        "\n"
      ],
      "metadata": {
        "colab": {
          "base_uri": "https://localhost:8080/"
        },
        "id": "QhgiGEuOypxd",
        "outputId": "bb5b956f-e1ce-469c-cfe5-92919fb12bf4"
      },
      "execution_count": 18,
      "outputs": [
        {
          "output_type": "stream",
          "name": "stdout",
          "text": [
            "Total de Jogos:  2279\n",
            "Total de Colunas:  21\n",
            "Total de Jogos ganhos em casa:  1133\n",
            "Total de Jogos ganhos pelo visitante:  553\n",
            "Total de Jogos empatados:  593\n",
            "Percentual de jogos ganhos em casa: 49.71%\n"
          ]
        }
      ]
    },
    {
      "cell_type": "markdown",
      "source": [
        "# ⚽ Algumas tendências interessantes:\n",
        "\n",
        "**1** - **Vitórias em Casa** 🏠: A maioria dos jogos (**49,71%**) foram vencidos pelos times que jogaram em casa. Isso confirma o que muitos já dizem sobre a vantagem de jogar no próprio estádio, com o apoio da torcida e em um ambiente familiar.\n",
        "\n",
        "**2** - **Desafios para os Visitantes** 🚶‍♂️: Os times visitantes ganharam apenas 553 partidas, o que representa cerca de **24,25%** do total. Isso me faz pensar no quão desafiador é para uma equipe se impor fora de casa, enfrentando o desgaste das viagens e a pressão da torcida adversária.\n",
        "\n",
        "**3** - **Empates Frequentes** ⚖️: Achei interessante que 593 jogos (aproximadamente **26,03%**) terminaram empatados. Isso mostra que, mesmo com a vantagem de jogar em casa, muitos confrontos acabam equilibrados, sem um vencedor claro.\n",
        "\n",
        "### Os resultados reforçam a ideia de que o fator casa realmente faz diferença no futebol ⚽"
      ],
      "metadata": {
        "id": "1URmpwYm2wx5"
      }
    },
    {
      "cell_type": "code",
      "source": [
        "# Bora plotar ele\n",
        "\n",
        "x = np.arange(3)  # Criamos um array com três posições (0, 1, 2) para as categorias 'Home', 'Away', e 'Draw'\n",
        "plt.bar(x, val, color=['blue', 'red', 'black'])  # Plotando um gráfico de barras usando as posições do array x e os valores de 'val' e mudando a cor das barras\n",
        "plt.xticks(x, ('Home', 'Away', 'Draw'))  # Define os rótulos do eixo x para as categorias correspondentes\n",
        "plt.show()"
      ],
      "metadata": {
        "colab": {
          "base_uri": "https://localhost:8080/",
          "height": 430
        },
        "id": "hcCAQp4G4OHe",
        "outputId": "7b34ccfa-ed28-402a-9ac1-ae6099f2bfe5"
      },
      "execution_count": 27,
      "outputs": [
        {
          "output_type": "display_data",
          "data": {
            "text/plain": [
              "<Figure size 640x480 with 1 Axes>"
            ],
            "image/png": "[encoded data removed]"
          },
          "metadata": {}
        }
      ]
    },
    {
      "cell_type": "code",
      "source": [
        "# Vamo preparar os dados\n",
        "\n",
        "num_data = data.drop(['Country', 'League', 'Season', 'Date', 'Time', 'Home', 'Away'], axis=1)  # Remove as colunas que não são numéricas do DataFrame 'data'\n",
        "display(num_data.head())  # Exibe as primeiras linhas do DataFrame 'num_data' para dar uma olhada nos dados restantes\n"
      ],
      "metadata": {
        "colab": {
          "base_uri": "https://localhost:8080/",
          "height": 226
        },
        "id": "sfIjfQvp5eTK",
        "outputId": "92e570ab-97f3-40cd-d062-3cf9794bfba8"
      },
      "execution_count": 29,
      "outputs": [
        {
          "output_type": "display_data",
          "data": {
            "text/plain": [
              "   game_id  home_id  Away_id  HG  AG  Res    PH    PD    PA  MaxH  MaxD  MaxA  \\\n",
              "0        1       21       21   1   1    0  1.75  3.86  5.25  1.76  3.87  5.31   \n",
              "1        2       27       27   1   1    0  2.83  3.39  2.68  2.83  3.42  2.70   \n",
              "2        3       13       13   2   1    1  1.60  4.04  6.72  1.67  4.05  7.22   \n",
              "3        4        7        7   4   2    1  2.49  3.35  3.15  2.49  3.39  3.15   \n",
              "4        5        9        9   0   1    2  1.96  3.53  4.41  1.96  3.53  4.41   \n",
              "\n",
              "   AvgH  AvgD  AvgA  \n",
              "0  1.69  3.50  4.90  \n",
              "1  2.59  3.23  2.58  \n",
              "2  1.59  3.67  5.64  \n",
              "3  2.35  3.26  2.84  \n",
              "4  1.89  3.33  3.89  "
            ],
            "text/html": [
              "\n",
              "  <div id=\"df-5918aa86-eaa0-4df6-834a-5f0fe5934287\" class=\"colab-df-container\">\n",
              "    <div>\n",
              "<style scoped>\n",
              "    .dataframe tbody tr th:only-of-type {\n",
              "        vertical-align: middle;\n",
              "    }\n",
              "\n",
              "    .dataframe tbody tr th {\n",
              "        vertical-align: top;\n",
              "    }\n",
              "\n",
              "    .dataframe thead th {\n",
              "        text-align: right;\n",
              "    }\n",
              "</style>\n",
              "<table border=\"1\" class=\"dataframe\">\n",
              "  <thead>\n",
              "    <tr style=\"text-align: right;\">\n",
              "      <th></th>\n",
              "      <th>game_id</th>\n",
              "      <th>home_id</th>\n",
              "      <th>Away_id</th>\n",
              "      <th>HG</th>\n",
              "      <th>AG</th>\n",
              "      <th>Res</th>\n",
              "      <th>PH</th>\n",
              "      <th>PD</th>\n",
              "      <th>PA</th>\n",
              "      <th>MaxH</th>\n",
              "      <th>MaxD</th>\n",
              "      <th>MaxA</th>\n",
              "      <th>AvgH</th>\n",
              "      <th>AvgD</th>\n",
              "      <th>AvgA</th>\n",
              "    </tr>\n",
              "  </thead>\n",
              "  <tbody>\n",
              "    <tr>\n",
              "      <th>0</th>\n",
              "      <td>1</td>\n",
              "      <td>21</td>\n",
              "      <td>21</td>\n",
              "      <td>1</td>\n",
              "      <td>1</td>\n",
              "      <td>0</td>\n",
              "      <td>1.75</td>\n",
              "      <td>3.86</td>\n",
              "      <td>5.25</td>\n",
              "      <td>1.76</td>\n",
              "      <td>3.87</td>\n",
              "      <td>5.31</td>\n",
              "      <td>1.69</td>\n",
              "      <td>3.50</td>\n",
              "      <td>4.90</td>\n",
              "    </tr>\n",
              "    <tr>\n",
              "      <th>1</th>\n",
              "      <td>2</td>\n",
              "      <td>27</td>\n",
              "      <td>27</td>\n",
              "      <td>1</td>\n",
              "      <td>1</td>\n",
              "      <td>0</td>\n",
              "      <td>2.83</td>\n",
              "      <td>3.39</td>\n",
              "      <td>2.68</td>\n",
              "      <td>2.83</td>\n",
              "      <td>3.42</td>\n",
              "      <td>2.70</td>\n",
              "      <td>2.59</td>\n",
              "      <td>3.23</td>\n",
              "      <td>2.58</td>\n",
              "    </tr>\n",
              "    <tr>\n",
              "      <th>2</th>\n",
              "      <td>3</td>\n",
              "      <td>13</td>\n",
              "      <td>13</td>\n",
              "      <td>2</td>\n",
              "      <td>1</td>\n",
              "      <td>1</td>\n",
              "      <td>1.60</td>\n",
              "      <td>4.04</td>\n",
              "      <td>6.72</td>\n",
              "      <td>1.67</td>\n",
              "      <td>4.05</td>\n",
              "      <td>7.22</td>\n",
              "      <td>1.59</td>\n",
              "      <td>3.67</td>\n",
              "      <td>5.64</td>\n",
              "    </tr>\n",
              "    <tr>\n",
              "      <th>3</th>\n",
              "      <td>4</td>\n",
              "      <td>7</td>\n",
              "      <td>7</td>\n",
              "      <td>4</td>\n",
              "      <td>2</td>\n",
              "      <td>1</td>\n",
              "      <td>2.49</td>\n",
              "      <td>3.35</td>\n",
              "      <td>3.15</td>\n",
              "      <td>2.49</td>\n",
              "      <td>3.39</td>\n",
              "      <td>3.15</td>\n",
              "      <td>2.35</td>\n",
              "      <td>3.26</td>\n",
              "      <td>2.84</td>\n",
              "    </tr>\n",
              "    <tr>\n",
              "      <th>4</th>\n",
              "      <td>5</td>\n",
              "      <td>9</td>\n",
              "      <td>9</td>\n",
              "      <td>0</td>\n",
              "      <td>1</td>\n",
              "      <td>2</td>\n",
              "      <td>1.96</td>\n",
              "      <td>3.53</td>\n",
              "      <td>4.41</td>\n",
              "      <td>1.96</td>\n",
              "      <td>3.53</td>\n",
              "      <td>4.41</td>\n",
              "      <td>1.89</td>\n",
              "      <td>3.33</td>\n",
              "      <td>3.89</td>\n",
              "    </tr>\n",
              "  </tbody>\n",
              "</table>\n",
              "</div>\n",
              "    <div class=\"colab-df-buttons\">\n",
              "\n",
              "  <div class=\"colab-df-container\">\n",
              "    <button class=\"colab-df-convert\" onclick=\"convertToInteractive('df-5918aa86-eaa0-4df6-834a-5f0fe5934287')\"\n",
              "            title=\"Convert this dataframe to an interactive table.\"\n",
              "            style=\"display:none;\">\n",
              "\n",
              "  <svg xmlns=\"http://www.w3.org/2000/svg\" height=\"24px\" viewBox=\"0 -960 960 960\">\n",
              "    <path d=\"M120-120v-720h720v720H120Zm60-500h600v-160H180v160Zm220 220h160v-160H400v160Zm0 220h160v-160H400v160ZM180-400h160v-160H180v160Zm440 0h160v-160H620v160ZM180-180h160v-160H180v160Zm440 0h160v-160H620v160Z\"/>\n",
              "  </svg>\n",
              "    </button>\n",
              "\n",
              "  <style>\n",
              "    .colab-df-container {\n",
              "      display:flex;\n",
              "      gap: 12px;\n",
              "    }\n",
              "\n",
              "    .colab-df-convert {\n",
              "      background-color: #E8F0FE;\n",
              "      border: none;\n",
              "      border-radius: 50%;\n",
              "      cursor: pointer;\n",
              "      display: none;\n",
              "      fill: #1967D2;\n",
              "      height: 32px;\n",
              "      padding: 0 0 0 0;\n",
              "      width: 32px;\n",
              "    }\n",
              "\n",
              "    .colab-df-convert:hover {\n",
              "      background-color: #E2EBFA;\n",
              "      box-shadow: 0px 1px 2px rgba(60, 64, 67, 0.3), 0px 1px 3px 1px rgba(60, 64, 67, 0.15);\n",
              "      fill: #174EA6;\n",
              "    }\n",
              "\n",
              "    .colab-df-buttons div {\n",
              "      margin-bottom: 4px;\n",
              "    }\n",
              "\n",
              "    [theme=dark] .colab-df-convert {\n",
              "      background-color: #3B4455;\n",
              "      fill: #D2E3FC;\n",
              "    }\n",
              "\n",
              "    [theme=dark] .colab-df-convert:hover {\n",
              "      background-color: #434B5C;\n",
              "      box-shadow: 0px 1px 3px 1px rgba(0, 0, 0, 0.15);\n",
              "      filter: drop-shadow(0px 1px 2px rgba(0, 0, 0, 0.3));\n",
              "      fill: #FFFFFF;\n",
              "    }\n",
              "  </style>\n",
              "\n",
              "    <script>\n",
              "      const buttonEl =\n",
              "        document.querySelector('#df-5918aa86-eaa0-4df6-834a-5f0fe5934287 button.colab-df-convert');\n",
              "      buttonEl.style.display =\n",
              "        google.colab.kernel.accessAllowed ? 'block' : 'none';\n",
              "\n",
              "      async function convertToInteractive(key) {\n",
              "        const element = document.querySelector('#df-5918aa86-eaa0-4df6-834a-5f0fe5934287');\n",
              "        const dataTable =\n",
              "          await google.colab.kernel.invokeFunction('convertToInteractive',\n",
              "                                                    [key], {});\n",
              "        if (!dataTable) return;\n",
              "\n",
              "        const docLinkHtml = 'Like what you see? Visit the ' +\n",
              "          '<a target=\"_blank\" href=https://colab.research.google.com/notebooks/data_table.ipynb>data table notebook</a>'\n",
              "          + ' to learn more about interactive tables.';\n",
              "        element.innerHTML = '';\n",
              "        dataTable['output_type'] = 'display_data';\n",
              "        await google.colab.output.renderOutput(dataTable, element);\n",
              "        const docLink = document.createElement('div');\n",
              "        docLink.innerHTML = docLinkHtml;\n",
              "        element.appendChild(docLink);\n",
              "      }\n",
              "    </script>\n",
              "  </div>\n",
              "\n",
              "\n",
              "<div id=\"df-48778f69-fa39-464a-88a4-6b12653be989\">\n",
              "  <button class=\"colab-df-quickchart\" onclick=\"quickchart('df-48778f69-fa39-464a-88a4-6b12653be989')\"\n",
              "            title=\"Suggest charts\"\n",
              "            style=\"display:none;\">\n",
              "\n",
              "<svg xmlns=\"http://www.w3.org/2000/svg\" height=\"24px\"viewBox=\"0 0 24 24\"\n",
              "     width=\"24px\">\n",
              "    <g>\n",
              "        <path d=\"M19 3H5c-1.1 0-2 .9-2 2v14c0 1.1.9 2 2 2h14c1.1 0 2-.9 2-2V5c0-1.1-.9-2-2-2zM9 17H7v-7h2v7zm4 0h-2V7h2v10zm4 0h-2v-4h2v4z\"/>\n",
              "    </g>\n",
              "</svg>\n",
              "  </button>\n",
              "\n",
              "<style>\n",
              "  .colab-df-quickchart {\n",
              "      --bg-color: #E8F0FE;\n",
              "      --fill-color: #1967D2;\n",
              "      --hover-bg-color: #E2EBFA;\n",
              "      --hover-fill-color: #174EA6;\n",
              "      --disabled-fill-color: #AAA;\n",
              "      --disabled-bg-color: #DDD;\n",
              "  }\n",
              "\n",
              "  [theme=dark] .colab-df-quickchart {\n",
              "      --bg-color: #3B4455;\n",
              "      --fill-color: #D2E3FC;\n",
              "      --hover-bg-color: #434B5C;\n",
              "      --hover-fill-color: #FFFFFF;\n",
              "      --disabled-bg-color: #3B4455;\n",
              "      --disabled-fill-color: #666;\n",
              "  }\n",
              "\n",
              "  .colab-df-quickchart {\n",
              "    background-color: var(--bg-color);\n",
              "    border: none;\n",
              "    border-radius: 50%;\n",
              "    cursor: pointer;\n",
              "    display: none;\n",
              "    fill: var(--fill-color);\n",
              "    height: 32px;\n",
              "    padding: 0;\n",
              "    width: 32px;\n",
              "  }\n",
              "\n",
              "  .colab-df-quickchart:hover {\n",
              "    background-color: var(--hover-bg-color);\n",
              "    box-shadow: 0 1px 2px rgba(60, 64, 67, 0.3), 0 1px 3px 1px rgba(60, 64, 67, 0.15);\n",
              "    fill: var(--button-hover-fill-color);\n",
              "  }\n",
              "\n",
              "  .colab-df-quickchart-complete:disabled,\n",
              "  .colab-df-quickchart-complete:disabled:hover {\n",
              "    background-color: var(--disabled-bg-color);\n",
              "    fill: var(--disabled-fill-color);\n",
              "    box-shadow: none;\n",
              "  }\n",
              "\n",
              "  .colab-df-spinner {\n",
              "    border: 2px solid var(--fill-color);\n",
              "    border-color: transparent;\n",
              "    border-bottom-color: var(--fill-color);\n",
              "    animation:\n",
              "      spin 1s steps(1) infinite;\n",
              "  }\n",
              "\n",
              "  @keyframes spin {\n",
              "    0% {\n",
              "      border-color: transparent;\n",
              "      border-bottom-color: var(--fill-color);\n",
              "      border-left-color: var(--fill-color);\n",
              "    }\n",
              "    20% {\n",
              "      border-color: transparent;\n",
              "      border-left-color: var(--fill-color);\n",
              "      border-top-color: var(--fill-color);\n",
              "    }\n",
              "    30% {\n",
              "      border-color: transparent;\n",
              "      border-left-color: var(--fill-color);\n",
              "      border-top-color: var(--fill-color);\n",
              "      border-right-color: var(--fill-color);\n",
              "    }\n",
              "    40% {\n",
              "      border-color: transparent;\n",
              "      border-right-color: var(--fill-color);\n",
              "      border-top-color: var(--fill-color);\n",
              "    }\n",
              "    60% {\n",
              "      border-color: transparent;\n",
              "      border-right-color: var(--fill-color);\n",
              "    }\n",
              "    80% {\n",
              "      border-color: transparent;\n",
              "      border-right-color: var(--fill-color);\n",
              "      border-bottom-color: var(--fill-color);\n",
              "    }\n",
              "    90% {\n",
              "      border-color: transparent;\n",
              "      border-bottom-color: var(--fill-color);\n",
              "    }\n",
              "  }\n",
              "</style>\n",
              "\n",
              "  <script>\n",
              "    async function quickchart(key) {\n",
              "      const quickchartButtonEl =\n",
              "        document.querySelector('#' + key + ' button');\n",
              "      quickchartButtonEl.disabled = true;  // To prevent multiple clicks.\n",
              "      quickchartButtonEl.classList.add('colab-df-spinner');\n",
              "      try {\n",
              "        const charts = await google.colab.kernel.invokeFunction(\n",
              "            'suggestCharts', [key], {});\n",
              "      } catch (error) {\n",
              "        console.error('Error during call to suggestCharts:', error);\n",
              "      }\n",
              "      quickchartButtonEl.classList.remove('colab-df-spinner');\n",
              "      quickchartButtonEl.classList.add('colab-df-quickchart-complete');\n",
              "    }\n",
              "    (() => {\n",
              "      let quickchartButtonEl =\n",
              "        document.querySelector('#df-48778f69-fa39-464a-88a4-6b12653be989 button');\n",
              "      quickchartButtonEl.style.display =\n",
              "        google.colab.kernel.accessAllowed ? 'block' : 'none';\n",
              "    })();\n",
              "  </script>\n",
              "</div>\n",
              "\n",
              "    </div>\n",
              "  </div>\n"
            ],
            "application/vnd.google.colaboratory.intrinsic+json": {
              "type": "dataframe",
              "summary": "{\n  \"name\": \"display(num_data\",\n  \"rows\": 5,\n  \"fields\": [\n    {\n      \"column\": \"game_id\",\n      \"properties\": {\n        \"dtype\": \"number\",\n        \"std\": 1,\n        \"min\": 1,\n        \"max\": 5,\n        \"num_unique_values\": 5,\n        \"samples\": [\n          2,\n          5,\n          3\n        ],\n        \"semantic_type\": \"\",\n        \"description\": \"\"\n      }\n    },\n    {\n      \"column\": \"home_id\",\n      \"properties\": {\n        \"dtype\": \"number\",\n        \"std\": 8,\n        \"min\": 7,\n        \"max\": 27,\n        \"num_unique_values\": 5,\n        \"samples\": [\n          27,\n          9,\n          13\n        ],\n        \"semantic_type\": \"\",\n        \"description\": \"\"\n      }\n    },\n    {\n      \"column\": \"Away_id\",\n      \"properties\": {\n        \"dtype\": \"number\",\n        \"std\": 8,\n        \"min\": 7,\n        \"max\": 27,\n        \"num_unique_values\": 5,\n        \"samples\": [\n          27,\n          9,\n          13\n        ],\n        \"semantic_type\": \"\",\n        \"description\": \"\"\n      }\n    },\n    {\n      \"column\": \"HG\",\n      \"properties\": {\n        \"dtype\": \"number\",\n        \"std\": 1,\n        \"min\": 0,\n        \"max\": 4,\n        \"num_unique_values\": 4,\n        \"samples\": [\n          2,\n          0,\n          1\n        ],\n        \"semantic_type\": \"\",\n        \"description\": \"\"\n      }\n    },\n    {\n      \"column\": \"AG\",\n      \"properties\": {\n        \"dtype\": \"number\",\n        \"std\": 0,\n        \"min\": 1,\n        \"max\": 2,\n        \"num_unique_values\": 2,\n        \"samples\": [\n          2,\n          1\n        ],\n        \"semantic_type\": \"\",\n        \"description\": \"\"\n      }\n    },\n    {\n      \"column\": \"Res\",\n      \"properties\": {\n        \"dtype\": \"number\",\n        \"std\": 0,\n        \"min\": 0,\n        \"max\": 2,\n        \"num_unique_values\": 3,\n        \"samples\": [\n          0,\n          1\n        ],\n        \"semantic_type\": \"\",\n        \"description\": \"\"\n      }\n    },\n    {\n      \"column\": \"PH\",\n      \"properties\": {\n        \"dtype\": \"number\",\n        \"std\": 0.5181023064994018,\n        \"min\": 1.6,\n        \"max\": 2.83,\n        \"num_unique_values\": 5,\n        \"samples\": [\n          2.83,\n          1.96\n        ],\n        \"semantic_type\": \"\",\n        \"description\": \"\"\n      }\n    },\n    {\n      \"column\": \"PD\",\n      \"properties\": {\n        \"dtype\": \"number\",\n        \"std\": 0.30286960890785986,\n        \"min\": 3.35,\n        \"max\": 4.04,\n        \"num_unique_values\": 5,\n        \"samples\": [\n          3.39,\n          3.53\n        ],\n        \"semantic_type\": \"\",\n        \"description\": \"\"\n      }\n    },\n    {\n      \"column\": \"PA\",\n      \"properties\": {\n        \"dtype\": \"number\",\n        \"std\": 1.6291930517897502,\n        \"min\": 2.68,\n        \"max\": 6.72,\n        \"num_unique_values\": 5,\n        \"samples\": [\n          2.68,\n          4.41\n        ],\n        \"semantic_type\": \"\",\n        \"description\": \"\"\n      }\n    },\n    {\n      \"column\": \"MaxH\",\n      \"properties\": {\n        \"dtype\": \"number\",\n        \"std\": 0.49906913348753607,\n        \"min\": 1.67,\n        \"max\": 2.83,\n        \"num_unique_values\": 5,\n        \"samples\": [\n          2.83,\n          1.96\n        ],\n        \"semantic_type\": \"\",\n        \"description\": \"\"\n      }\n    },\n    {\n      \"column\": \"MaxD\",\n      \"properties\": {\n        \"dtype\": \"number\",\n        \"std\": 0.2929505077653902,\n        \"min\": 3.39,\n        \"max\": 4.05,\n        \"num_unique_values\": 5,\n        \"samples\": [\n          3.42,\n          3.53\n        ],\n        \"semantic_type\": \"\",\n        \"description\": \"\"\n      }\n    },\n    {\n      \"column\": \"MaxA\",\n      \"properties\": {\n        \"dtype\": \"number\",\n        \"std\": 1.8102679359697005,\n        \"min\": 2.7,\n        \"max\": 7.22,\n        \"num_unique_values\": 5,\n        \"samples\": [\n          2.7,\n          4.41\n        ],\n        \"semantic_type\": \"\",\n        \"description\": \"\"\n      }\n    },\n    {\n      \"column\": \"AvgH\",\n      \"properties\": {\n        \"dtype\": \"number\",\n        \"std\": 0.4314162722939412,\n        \"min\": 1.59,\n        \"max\": 2.59,\n        \"num_unique_values\": 5,\n        \"samples\": [\n          2.59,\n          1.89\n        ],\n        \"semantic_type\": \"\",\n        \"description\": \"\"\n      }\n    },\n    {\n      \"column\": \"AvgD\",\n      \"properties\": {\n        \"dtype\": \"number\",\n        \"std\": 0.18458060569843193,\n        \"min\": 3.23,\n        \"max\": 3.67,\n        \"num_unique_values\": 5,\n        \"samples\": [\n          3.23,\n          3.33\n        ],\n        \"semantic_type\": \"\",\n        \"description\": \"\"\n      }\n    },\n    {\n      \"column\": \"AvgA\",\n      \"properties\": {\n        \"dtype\": \"number\",\n        \"std\": 1.3104579352272243,\n        \"min\": 2.58,\n        \"max\": 5.64,\n        \"num_unique_values\": 5,\n        \"samples\": [\n          2.58,\n          3.89\n        ],\n        \"semantic_type\": \"\",\n        \"description\": \"\"\n      }\n    }\n  ]\n}"
            }
          },
          "metadata": {}
        }
      ]
    },
    {
      "cell_type": "code",
      "source": [
        "# Agora vamo separas as *FEATURES* (entrada)\n",
        "features = num_data.drop(['Res'], axis=1)\n",
        "\n",
        "# as *LABELS* (saida)\n",
        "labels = num_data['Res']\n",
        "\n",
        "print('Features')\n",
        "print(features.head())\n",
        "print('-------------------------------------------------------------------------')\n",
        "print('Labels')\n",
        "print(labels.head())\n"
      ],
      "metadata": {
        "colab": {
          "base_uri": "https://localhost:8080/"
        },
        "id": "PzKWls137CP_",
        "outputId": "9178eaae-fc43-4c68-ca7e-024fff61e803"
      },
      "execution_count": 37,
      "outputs": [
        {
          "output_type": "stream",
          "name": "stdout",
          "text": [
            "Features\n",
            "   game_id  home_id  Away_id  HG  AG    PH    PD    PA  MaxH  MaxD  MaxA  \\\n",
            "0        1       21       21   1   1  1.75  3.86  5.25  1.76  3.87  5.31   \n",
            "1        2       27       27   1   1  2.83  3.39  2.68  2.83  3.42  2.70   \n",
            "2        3       13       13   2   1  1.60  4.04  6.72  1.67  4.05  7.22   \n",
            "3        4        7        7   4   2  2.49  3.35  3.15  2.49  3.39  3.15   \n",
            "4        5        9        9   0   1  1.96  3.53  4.41  1.96  3.53  4.41   \n",
            "\n",
            "   AvgH  AvgD  AvgA  \n",
            "0  1.69  3.50  4.90  \n",
            "1  2.59  3.23  2.58  \n",
            "2  1.59  3.67  5.64  \n",
            "3  2.35  3.26  2.84  \n",
            "4  1.89  3.33  3.89  \n",
            "-------------------------------------------------------------------------\n",
            "Labels\n",
            "0    0\n",
            "1    0\n",
            "2    1\n",
            "3    1\n",
            "4    2\n",
            "Name: Res, dtype: int64\n"
          ]
        }
      ]
    },
    {
      "cell_type": "code",
      "source": [
        "# Escolhenco as melhores features com Kbest\n",
        "\n",
        "features_list = ('HG','AG','PH','PD','PA','MaxH','MaxD','MaxA','AvgH','AvgD','AvgA')\n",
        "\n",
        "k_best_features = SelectKBest(k='all')\n",
        "k_best_features.fit_transform(features, labels)\n",
        "k_best_features_scores = k_best_features.scores_\n",
        "raw_pairs = zip(features_list[1:], k_best_features_scores)\n",
        "ordered_pairs = list(reversed(sorted(raw_pairs, key=lambda x: x[1])))\n",
        "\n",
        "k_best_features_final = dict(ordered_pairs[:15])\n",
        "best_features = k_best_features_final.keys()\n",
        "print('')\n",
        "print(\"Melhores features: \")\n",
        "print(k_best_features_final)"
      ],
      "metadata": {
        "colab": {
          "base_uri": "https://localhost:8080/"
        },
        "id": "Zh_2fOAE7t4s",
        "outputId": "e857385b-627a-431e-c7a4-65971b287abf"
      },
      "execution_count": 41,
      "outputs": [
        {
          "output_type": "stream",
          "name": "stdout",
          "text": [
            "\n",
            "Melhores features: \n",
            "{'PA': 740.4065621193932, 'MaxH': 731.7074700471329, 'MaxD': 81.51748572743963, 'AvgD': 80.67054047107476, 'AvgH': 63.290872018071454, 'MaxA': 40.62018755299711, 'AvgA': 40.54491193487282, 'AG': 0.6533077251586757, 'PD': 0.027363118243961364, 'PH': 0.027363118243961364}\n"
          ]
        }
      ]
    },
    {
      "cell_type": "code",
      "source": [
        "from sklearn.feature_selection import SelectKBest\n",
        "\n",
        "# Escolhendo as melhores features com KBest\n",
        "features_list = ('HG', 'AG', 'PH', 'PD', 'PA', 'MaxH', 'MaxD', 'MaxA', 'AvgH', 'AvgD', 'AvgA')\n",
        "\n",
        "# Cria o seletor para escolher as melhores features\n",
        "k_best_features = SelectKBest(k='all')\n",
        "\n",
        "# Ajusta o seletor com os dados de features e labels\n",
        "k_best_features.fit_transform(features, labels)  # Corrigido de fit_trasform para fit_transform\n",
        "\n",
        "# Obtém os scores das features\n",
        "k_best_features_scores = k_best_features.scores_\n",
        "\n",
        "# Cria uma lista de pares (nome da feature, score) e a ordena em ordem decrescente pelos scores\n",
        "raw_pairs = zip(features_list, k_best_features_scores)\n",
        "ordered_pairs = list(reversed(sorted(raw_pairs, key=lambda x: x[1])))\n",
        "\n",
        "# Seleciona as top 15 features com os maiores scores\n",
        "k_best_features_final = dict(ordered_pairs[:15])\n",
        "\n",
        "# Extrai os nomes das melhores features\n",
        "best_features = k_best_features_final.keys()\n",
        "\n",
        "print('')\n",
        "print(\"Melhores features: \")\n",
        "print(k_best_features_final)\n"
      ],
      "metadata": {
        "colab": {
          "base_uri": "https://localhost:8080/"
        },
        "id": "OnZCxc1X-3s1",
        "outputId": "0c3c7027-0d59-41c1-ceca-e5faaff00b05"
      },
      "execution_count": 44,
      "outputs": [
        {
          "output_type": "stream",
          "name": "stdout",
          "text": [
            "\n",
            "Melhores features: \n",
            "{'PD': 740.4065621193932, 'PA': 731.7074700471329, 'MaxH': 81.51748572743963, 'AvgH': 80.67054047107476, 'AvgA': 68.70262760245139, 'MaxA': 63.290872018071454, 'MaxD': 40.62018755299711, 'AvgD': 40.54491193487282, 'HG': 0.6533077251586757, 'PH': 0.027363118243961364, 'AG': 0.027363118243961364}\n"
          ]
        }
      ]
    },
    {
      "cell_type": "code",
      "source": [
        "# Separa as features com base nos melhores features para treinamento\n",
        "fatures = num_data.drop(['Res','game_id','Away_id','AG','PH'], axis=1)\n",
        "\n",
        "# Separar as labels para treinamento\n",
        "labels = num_data['Res']\n",
        "\n",
        "print('Features')\n",
        "print(features.head())\n",
        "\n",
        "print('-----------------------------------------------------------------')\n",
        "\n",
        "print('Labels')\n",
        "print(labels.head())"
      ],
      "metadata": {
        "colab": {
          "base_uri": "https://localhost:8080/"
        },
        "id": "hTt8LyXxOS9z",
        "outputId": "dd67b01d-e58a-4e6b-b444-6649bbef86d0"
      },
      "execution_count": 47,
      "outputs": [
        {
          "output_type": "stream",
          "name": "stdout",
          "text": [
            "Features\n",
            "   game_id  home_id  Away_id  HG  AG    PH    PD    PA  MaxH  MaxD  MaxA  \\\n",
            "0        1       21       21   1   1  1.75  3.86  5.25  1.76  3.87  5.31   \n",
            "1        2       27       27   1   1  2.83  3.39  2.68  2.83  3.42  2.70   \n",
            "2        3       13       13   2   1  1.60  4.04  6.72  1.67  4.05  7.22   \n",
            "3        4        7        7   4   2  2.49  3.35  3.15  2.49  3.39  3.15   \n",
            "4        5        9        9   0   1  1.96  3.53  4.41  1.96  3.53  4.41   \n",
            "\n",
            "   AvgH  AvgD  AvgA  \n",
            "0  1.69  3.50  4.90  \n",
            "1  2.59  3.23  2.58  \n",
            "2  1.59  3.67  5.64  \n",
            "3  2.35  3.26  2.84  \n",
            "4  1.89  3.33  3.89  \n",
            "-----------------------------------------------------------------\n",
            "Labels\n",
            "0    0\n",
            "1    0\n",
            "2    1\n",
            "3    1\n",
            "4    2\n",
            "Name: Res, dtype: int64\n"
          ]
        }
      ]
    },
    {
      "cell_type": "code",
      "source": [
        "# Normalizando os dados de entrada(features)\n",
        "\n",
        "#gerando o novo padrão\n",
        "scaler = MinMaxScaler().fit(features)\n",
        "features_scale = scaler.transform(features)\n",
        "\n",
        "print ('Features: ', features_scale.shape)\n",
        "print (features_scale)"
      ],
      "metadata": {
        "colab": {
          "base_uri": "https://localhost:8080/"
        },
        "id": "Fsb3lCJSYhc4",
        "outputId": "09db7b24-3f2f-4c7c-9102-2e21dbf6865b"
      },
      "execution_count": 48,
      "outputs": [
        {
          "output_type": "stream",
          "name": "stdout",
          "text": [
            "Features:  (2279, 14)\n",
            "[[0.00000000e+00 7.14285714e-01 7.14285714e-01 ... 8.23909532e-02\n",
            "  1.59459459e-01 2.69200931e-01]\n",
            " [4.38981563e-04 9.28571429e-01 9.28571429e-01 ... 2.27786753e-01\n",
            "  8.64864865e-02 8.92164469e-02]\n",
            " [8.77963126e-04 4.28571429e-01 4.28571429e-01 ... 6.62358643e-02\n",
            "  2.05405405e-01 3.26609775e-01]\n",
            " ...\n",
            " [9.99122037e-01 9.28571429e-01 9.28571429e-01 ... 3.06946688e-02\n",
            "  5.05405405e-01 4.88750970e-01]\n",
            " [9.99561018e-01 9.64285714e-01 9.64285714e-01 ... 2.42326333e-02\n",
            "  5.13513514e-01 6.08223429e-01]\n",
            " [1.00000000e+00 1.00000000e+00 1.00000000e+00 ... 1.58319871e-01\n",
            "  1.37837838e-01 1.40418929e-01]]\n"
          ]
        }
      ]
    },
    {
      "cell_type": "code",
      "source": [
        "# Separa em treinamento e teste\n",
        "# Separação manual para manter a ordem cronológica, uma vez que temos informação tempral.\n",
        "# Treino linhas [:1932]\n",
        "# Treino Linhas [1932:2155]\n",
        "# previsão Linhas [2155:2280]\n",
        "\n",
        "X_train = features_scale[:1932]\n",
        "X_test = features_scale[1932:2155]\n",
        "y_train = labels[:1932]\n",
        "y_test = labels[1932:2155]\n",
        "\n",
        "print( len(X_train), len(y_train))\n",
        "\n",
        "print( len(X_test), len(y_test))\n"
      ],
      "metadata": {
        "colab": {
          "base_uri": "https://localhost:8080/"
        },
        "id": "YWyfV-icY7kl",
        "outputId": "91eefea5-a36e-4422-8811-700397fb669e"
      },
      "execution_count": 54,
      "outputs": [
        {
          "output_type": "stream",
          "name": "stdout",
          "text": [
            "1932 1932\n",
            "223 223\n"
          ]
        }
      ]
    },
    {
      "cell_type": "code",
      "source": [
        "# Treinando e testando os modelos\n",
        "print('LogisticRegression :)')\n",
        "\n",
        "clf_LR = LogisticRegression(multi_class='multinomial',max_iter=200)\n",
        "clf_LR.fit(X_train, y_train)\n",
        "pred = clf_LR.predict(X_test)\n",
        "\n",
        "lg_acc = accuracy_score(y_test, pred)\n",
        "f1=f1_score(y_test, pred, average = 'micro')\n",
        "print('Acurácia LogisticRegression:{}'.format(lg_acc))\n",
        "print('F1 Score:{}'.format(f1))"
      ],
      "metadata": {
        "colab": {
          "base_uri": "https://localhost:8080/"
        },
        "id": "STYUAmxeZ1VH",
        "outputId": "d929eaf3-fed7-4b8d-8107-d442cb5e2da8"
      },
      "execution_count": 59,
      "outputs": [
        {
          "output_type": "stream",
          "name": "stdout",
          "text": [
            "LogisticRegression :)\n",
            "Acurácia LogisticRegression:1.0\n",
            "F1 Score:1.0\n"
          ]
        }
      ]
    },
    {
      "cell_type": "code",
      "source": [],
      "metadata": {
        "id": "Uh_BRWHyax7S"
      },
      "execution_count": null,
      "outputs": []
    }
  ]
}